﻿{
  "metadata": {
    "name": "Crosstab",
    "kernelspec": {
      "language": "scala",
      "name": "spark2-scala"
    },
    "language_info": {
      "codemirror_mode": "text/x-scala",
      "file_extension": ".scala",
      "mimetype": "text/x-scala",
      "name": "scala",
      "pygments_lexer": "scala"
    }
  },
  "nbformat": 4,
  "nbformat_minor": 2,
  "cells": [
    {
      "cell_type": "code",
      "execution_count": 0,
      "metadata": {
        "autoscroll": "auto"
      },
      "outputs": [],
      "source": "\nimport org.apache.spark.sql.types._\nval dataSchema \u003d StructType(\n    Array(\n        StructField(\"id_persona\", DecimalType(26, 0), true), \n        StructField(\"anio\", IntegerType, true), \n        StructField(\"mes\", IntegerType, true), \n        StructField(\"provincia\", IntegerType, true), \n        StructField(\"canton\", IntegerType, true), \n        StructField(\"area\", StringType, true), \n        StructField(\"genero\", StringType, true), \n        StructField(\"edad\", IntegerType, true), \n        StructField(\"estado_civil\", StringType, true), \n        StructField(\"nivel_de_instruccion\", StringType, true), \n        StructField(\"etnia\", StringType, true), \n        StructField(\"ingreso_laboral\", IntegerType, true), \n        StructField(\"condicion_actividad\", StringType, true), \n        StructField(\"sectorizacion\", StringType, true), \n        StructField(\"grupo_ocupacion\", StringType, true), \n        StructField(\"rama_actividad\", StringType, true), \n        StructField(\"factor_expansion\", DoubleType, true)\n    ))\n"
    },
    {
      "cell_type": "code",
      "execution_count": 1,
      "metadata": {
        "autoscroll": "auto"
      },
      "outputs": [],
      "source": "\nval df \u003d spark.read.option(\"myDataSchema\",\"true\").option(\"header\",\"true\").option(\"delimiter\",\"\\t\").csv(\"/home/daniel/MEGAsync/4Ciclo/ProgramacionAvanzada/Proyecto2Bim//Datos_ENEMDU_PEA_v2.csv\")\nval data2 \u003d df.drop(\"id_persona\")\n\n\nval data3\u003ddata2.withColumn(\"provincia\", when($\"provincia\" \u003d\u003d\u003d  1 , lit(\"Azuay\"))\n                .otherwise(when($\"provincia\" \u003d\u003d\u003d  2 , lit(\"Bovilar\"))\n                        .otherwise(when($\"provincia\" \u003d\u003d\u003d 3, lit(\"Caniar\"))\n                        .otherwise(when($\"provincia\" \u003d\u003d\u003d 4, lit(\"Carchi\"))\n                        .otherwise(when($\"provincia\" \u003d\u003d\u003d 5, lit(\"Cotopaxi\"))\n.otherwise(when($\"provincia\" \u003d\u003d\u003d 6, lit(\"Chimborazo\"))\n.otherwise(when($\"provincia\" \u003d\u003d\u003d 7, lit(\"El Oro\"))\n.otherwise(when($\"provincia\" \u003d\u003d\u003d 8, lit(\"Esmeraldas\"))\n.otherwise(when($\"provincia\" \u003d\u003d\u003d 9, lit(\"Guayas\"))\n.otherwise(when($\"provincia\" \u003d\u003d\u003d 10, lit(\"Imbabura\"))\n.otherwise(when($\"provincia\" \u003d\u003d\u003d 11, lit(\"Loja\"))\n.otherwise(when($\"provincia\" \u003d\u003d\u003d 12, lit(\"Los Rios\"))\n.otherwise(when($\"provincia\" \u003d\u003d\u003d 13, lit(\"Manabi\"))\n.otherwise(when($\"provincia\" \u003d\u003d\u003d 14, lit(\"Morona Santiago\"))\n.otherwise(when($\"provincia\" \u003d\u003d\u003d 15, lit(\"Napo\"))\n.otherwise(when($\"provincia\" \u003d\u003d\u003d 16, lit(\"Pastaza\"))\n.otherwise(when($\"provincia\" \u003d\u003d\u003d 17, lit(\"Pichincha\"))\n.otherwise(when($\"provincia\" \u003d\u003d\u003d 18, lit(\"Tungurahua\"))\n.otherwise(when($\"provincia\" \u003d\u003d\u003d 19, lit(\"Zamora Chinchipe\"))\n.otherwise(when($\"provincia\" \u003d\u003d\u003d 20, lit(\"Galapagos\"))\n.otherwise(when($\"provincia\" \u003d\u003d\u003d 21, lit(\"Sucumbios\"))\n.otherwise(when($\"provincia\" \u003d\u003d\u003d 22, lit(\"Orellana\"))\n.otherwise(when($\"provincia\" \u003d\u003d\u003d 23, lit(\"Santo Domingo de los Tsachilas\"))\n.otherwise(when($\"provincia\" \u003d\u003d\u003d 24, lit(\"Santa  Elena\"))\n)   ))  )))))))))))))))))))))"
    },
    {
      "cell_type": "markdown",
      "metadata": {},
      "source": " \n## Uso de CrossTab\n¿Cuál es la frecuencia  de Hombres y Mujeres por provincia?"
    },
    {
      "cell_type": "code",
      "execution_count": 3,
      "metadata": {
        "autoscroll": "auto"
      },
      "outputs": [],
      "source": "\n\nval anioGeneroDF \u003d data3.stat.crosstab(\"provincia\", \"genero\").orderBy(\"provincia_genero\")\nval r2\u003d anioGeneroDF.select($\"provincia_genero\",anioGeneroDF(\"1 - Hombre\") + anioGeneroDF(\"2 - Mujer\") )\nanioGeneroDF.join(r2,Seq(\"provincia_genero\")).withColumnRenamed(\"(1 - Hombre + 2 - Mujer)\",\"TOTAL\").show(24)\n"
    },
    {
      "cell_type": "markdown",
      "metadata": {},
      "source": "¿Cuál es la frecuencia de la variable **sectorizacion** respecto de las provincias?"
    },
    {
      "cell_type": "code",
      "execution_count": 5,
      "metadata": {
        "autoscroll": "auto"
      },
      "outputs": [],
      "source": "\ndata3.stat.crosstab(\"provincia\", \"sectorizacion\").orderBy(\"provincia_sectorizacion\")\n.show(24)"
    },
    {
      "cell_type": "markdown",
      "metadata": {},
      "source": " \n## Pivot\n¿ Cuál es el valor promedio y máximo del ingreso laboral de hombres y mujeres segun la **sectorizacion**?"
    },
    {
      "cell_type": "code",
      "execution_count": 7,
      "metadata": {
        "autoscroll": "auto"
      },
      "outputs": [],
      "source": "val avgSalGenero \u003ddata3.groupBy(\"rama_actividad\").pivot(\"genero\").agg(max(\"ingreso_laboral\"),avg(\"ingreso_laboral\")).orderBy($\"rama_actividad\")\n\navgSalGenero.withColumnRenamed(\"1 - Hombre_avg(CAST(ingreso_laboral AS DOUBLE))\",\"Hombres\").withColumn(\"Hombres\", format_number(\u0027Hombres,2))\n.withColumnRenamed(\"2 - Mujer_avg(CAST(ingreso_laboral AS DOUBLE))\",\"Mujeres\").withColumn(\"Mujeres\", format_number(\u0027Mujeres,2))\n.withColumnRenamed(\"1 - Hombre_max(ingreso_laboral)\",\"SueldoMaxHombre\")\n.withColumnRenamed(\"2 - Mujer_max(ingreso_laboral)\",\"SueldoMaxMujer\")\n.show(false)\n"
    },
    {
      "cell_type": "markdown",
      "metadata": {},
      "source": " \n¿ Cuál es el promedio del ingreso laboral de hombres y mujeres segun la **sectorizacion**?"
    },
    {
      "cell_type": "code",
      "execution_count": 9,
      "metadata": {
        "autoscroll": "auto"
      },
      "outputs": [],
      "source": "data2.groupBy(\"sectorizacion\").pivot(\"genero\").agg(avg(\"ingreso_laboral\")).orderBy($\"sectorizacion\").withColumn(\"2 - Mujer\", format_number($\"2 - Mujer\",2))\n.withColumn(\"1 - Hombre\",format_number($\"1 - Hombre\",2)).show(false)"
    },
    {
      "cell_type": "markdown",
      "metadata": {},
      "source": " \n¿ Cuál es el promedio del ingreso laboral de hombres y mujeres según su **estado_civil**?"
    },
    {
      "cell_type": "code",
      "execution_count": 11,
      "metadata": {
        "autoscroll": "auto"
      },
      "outputs": [],
      "source": "data2.groupBy(\"area\").pivot(\"ingreso_laboral\").max(\"ingreso_laboral\").show"
    },
    {
      "cell_type": "code",
      "execution_count": 12,
      "metadata": {
        "autoscroll": "auto"
      },
      "outputs": [],
      "source": "data2.stat.crosstab(\"rama_actividad\", \"area\").show"
    },
    {
      "cell_type": "code",
      "execution_count": 13,
      "metadata": {
        "autoscroll": "auto"
      },
      "outputs": [],
      "source": "z.show(data2.groupBy(\"rama_actividad\").pivot(\"genero\").avg(\"ingreso_laboral\"))"
    }
  ]
}