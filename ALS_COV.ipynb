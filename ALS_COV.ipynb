﻿{
  "metadata": {
    "name": "ALS",
    "kernelspec": {
      "language": "scala",
      "name": "spark2-scala"
    },
    "language_info": {
      "codemirror_mode": "text/x-scala",
      "file_extension": ".scala",
      "mimetype": "text/x-scala",
      "name": "scala",
      "pygments_lexer": "scala"
    }
  },
  "nbformat": 4,
  "nbformat_minor": 2,
  "cells": [
    {
      "cell_type": "code",
      "execution_count": 0,
      "metadata": {
        "autoscroll": "auto"
      },
      "outputs": [],
      "source": "import org.apache.spark.ml.evaluation.RegressionEvaluator\nimport org.apache.spark.ml.recommendation.ALS\nimport org.apache.spark.sql.types._\n"
    },
    {
      "cell_type": "markdown",
      "metadata": {},
      "source": "### Estructura con Schema - Lectura y carga del CSV - Filtrado de cabecera - Filtrado año 2019"
    },
    {
      "cell_type": "code",
      "execution_count": 2,
      "metadata": {
        "autoscroll": "auto"
      },
      "outputs": [],
      "source": "val schema2 \u003d StructType(Array(\n    StructField(\"id_Persona\", LongType, true),\n    StructField(\"anio\", IntegerType, true),\n    StructField(\"mes\", IntegerType, true),\n    StructField(\"provincia\", StringType, true),\n    StructField(\"canton\", StringType, true),\n    StructField(\"area\", StringType, true),\n    StructField(\"genero\", StringType, true),\n    StructField(\"edad\", DoubleType, true),\n    StructField(\"estado_civil\", StringType, true),\n    StructField(\"nivel_de_instruccion\", StringType, true),\n    StructField(\"etnia\", StringType, true),\n    StructField(\"ingreso_laboral\", DoubleType, true),\n    StructField(\"condicion_actividad\", StringType, true),\n    StructField(\"sectorizacion\", StringType, true),\n    StructField(\"grupo_ocupacion\", StringType, true),\n    StructField(\"rama_actividad\", StringType, true),\n    StructField(\"factor_expansion\", StringType, true)\n  ))\n\n\n"
    },
    {
      "cell_type": "code",
      "execution_count": 3,
      "metadata": {
        "autoscroll": "auto"
      },
      "outputs": [],
      "source": "case class Rating(id_Persona: Long, edad: Int, ingreso_laboral: Float, factor_expansion: Float)\ndef parseRating(str: String): Rating \u003d {\n  val fields \u003d str.split(\"\\t\")\n  assert(fields.size \u003d\u003d 4)\n  Rating(fields(0).toLong, fields(1).toInt, fields(2).toFloat, fields(3).toFloat)\n}"
    },
    {
      "cell_type": "code",
      "execution_count": 4,
      "metadata": {
        "autoscroll": "auto"
      },
      "outputs": [],
      "source": "val df \u003d spark.read.csv(\"/home/david/Datos_ENEMDU_PEA_v2.csv\")  \n//val header \u003d df.first()\n//val dfh \u003d df.filter(_!\u003dheader).filter($\"anio\" \u003d\u003d\u003d 2019)\nval raintings\u003d df.map(parseRating).toDF()\n"
    },
    {
      "cell_type": "code",
      "execution_count": 5,
      "metadata": {
        "autoscroll": "auto"
      },
      "outputs": [],
      "source": "val Array(training, test) \u003d dfh.randomSplit(Array(0.8, 0.2))"
    },
    {
      "cell_type": "code",
      "execution_count": 6,
      "metadata": {
        "autoscroll": "auto"
      },
      "outputs": [],
      "source": "val als \u003d new ALS()\n  .setMaxIter(5)\n  .setRegParam(0.01)\n  .setImplicitPrefs(true)\n  .setUserCol(\"id_Persona\")\n  .setItemCol(\"edad\")\n  .setRatingCol(\"ingreso_laboral\")\n"
    },
    {
      "cell_type": "code",
      "execution_count": 7,
      "metadata": {
        "autoscroll": "auto"
      },
      "outputs": [],
      "source": "//val model \u003d als.fit(training)\nals.extractParamMap"
    },
    {
      "cell_type": "code",
      "execution_count": 8,
      "metadata": {
        "autoscroll": "auto"
      },
      "outputs": [],
      "source": "df.select($\"edad\",$\"factor_expansion\").agg(covar_pop($\"edad\",$\"factor_expansion\")).show"
    },
    {
      "cell_type": "code",
      "execution_count": 9,
      "metadata": {
        "autoscroll": "auto"
      },
      "outputs": [],
      "source": "df.select($\"edad\",$\"factor_expansion\").agg(covar_samp($\"edad\",$\"factor_expansion\")).show"
    }
  ]
}