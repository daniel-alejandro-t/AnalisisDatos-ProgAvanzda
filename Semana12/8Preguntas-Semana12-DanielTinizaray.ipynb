﻿{
  "metadata": {
    "name": "Preguntas-Semana12",
    "kernelspec": {
      "language": "scala",
      "name": "spark2-scala"
    },
    "language_info": {
      "codemirror_mode": "text/x-scala",
      "file_extension": ".scala",
      "mimetype": "text/x-scala",
      "name": "scala",
      "pygments_lexer": "scala"
    }
  },
  "nbformat": 4,
  "nbformat_minor": 2,
  "cells": [
    {
      "cell_type": "code",
      "execution_count": 0,
      "metadata": {
        "autoscroll": "auto"
      },
      "outputs": [],
      "source": "val datosDF \u003d spark.read.format(\"csv\")\n                    .option(\"sep\", \"\\t\")\n                    .option(\"inferSchema\", \"true\")\n                    .option(\"header\", \"true\")\n                    .load(\"/home/daniel/MEGA/UTPL/4ciclo/ProgramacionAvanzada/Proyecto2Bim/Datos_ENEMDU_PEA_v2.csv\")"
    },
    {
      "cell_type": "code",
      "execution_count": 1,
      "metadata": {
        "autoscroll": "auto"
      },
      "outputs": [],
      "source": "datosDF.select(\"ingreso_laboral\").where($\"ingreso_laboral\" \u003e\u003d 390).count\n"
    },
    {
      "cell_type": "code",
      "execution_count": 2,
      "metadata": {
        "autoscroll": "auto"
      },
      "outputs": [],
      "source": "datosDF.select(\"sectorizacion\").where($\"sectorizacion\".isNull).count"
    },
    {
      "cell_type": "code",
      "execution_count": 3,
      "metadata": {
        "autoscroll": "auto"
      },
      "outputs": [],
      "source": "datosDF.select(\"nivel_de_instruccion\").groupBy(\"nivel_de_instruccion\").count().orderBy(desc(\"count\")).show"
    },
    {
      "cell_type": "code",
      "execution_count": 4,
      "metadata": {
        "autoscroll": "auto"
      },
      "outputs": [],
      "source": "datosDF.select(\"rama_actividad\").where($\"ingreso_laboral\" \u003e\u003d 1000).groupBy(\"rama_actividad\").count.orderBy(desc(\"count\")).show"
    },
    {
      "cell_type": "code",
      "execution_count": 5,
      "metadata": {
        "autoscroll": "auto"
      },
      "outputs": [],
      "source": "datosDF.select(\"ingreso_laboral\").orderBy(desc(\"ingreso_laboral\")).show(10)"
    },
    {
      "cell_type": "code",
      "execution_count": 6,
      "metadata": {
        "autoscroll": "auto"
      },
      "outputs": [],
      "source": "datosDF.select(\"grupo_ocupacion\").where($\"edad\" \u003c 30).groupBy(\"grupo_ocupacion\").count.orderBy(asc(\"grupo_ocupacion\")).show"
    },
    {
      "cell_type": "code",
      "execution_count": 7,
      "metadata": {
        "autoscroll": "auto"
      },
      "outputs": [],
      "source": "datosDF.select(\"nivel_de_instruccion\").filter( \"nivel_de_instruccion \u003d\u003d \u002709 - Superior Universitario\u0027 \").count"
    },
    {
      "cell_type": "code",
      "execution_count": 8,
      "metadata": {
        "autoscroll": "auto"
      },
      "outputs": [],
      "source": "datosDF.filter(\"grupo_ocupacion \u003d\u003d \u002702 - Profesionales científicos e intelectuales\u0027\").filter(\"rama_actividad \u003d\u003d \u002716 - P. Enseñanza\u0027\").select(avg(\"ingreso_laboral\").as(\"sueldo promedio\")).show"
    }
  ]
}