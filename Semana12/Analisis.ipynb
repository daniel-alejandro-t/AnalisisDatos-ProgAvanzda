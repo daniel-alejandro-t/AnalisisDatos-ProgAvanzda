﻿{
  "metadata": {
    "name": "Preguntas",
    "kernelspec": {
    "display_name": "Scala",
      "language": "scala",
      "name": "spark2-scala"
    },
    "language_info": {
      "codemirror_mode": "text/x-scala",
      "file_extension": ".scala",
      "mimetype": "text/x-scala",
      "name": "scala",
      "pygments_lexer": "scala"
    }
  },
  "nbformat": 4,
  "nbformat_minor": 2,
  "cells": [
    {
      "cell_type": "code",
      "execution_count": 0,
      "metadata": {
        "autoscroll": "auto"
      },
      "outputs": [],
      "source": "val df \u003d spark.read.option(\"inferSchema\",\"true\").option(\"header\",\"true\").option(\"delimiter\",\"\\t\").csv(\"/home/david/Datos_ENEMDU_PEA_v2.csv\")\n"
    },
    {
      "cell_type": "code",
      "execution_count": 1,
      "metadata": {
        "autoscroll": "auto"
      },
      "outputs": [],
      "source": "val data2 \u003d df.drop(\"id_persona\")\ndata2.printSchema\n"
    },
    {
      "cell_type": "code",
      "execution_count": 2,
      "metadata": {
        "autoscroll": "auto"
      },
      "outputs": [],
      "source": "data2.select($\"provincia\").distinct.show"
    },
    {
      "cell_type": "code",
      "execution_count": 3,
      "metadata": {
        "autoscroll": "auto"
      },
      "outputs": [],
      "source": "val pro\u003ddata2.withColumn(\"provincia\", when($\"provincia\" \u003d\u003d\u003d  1 , lit(\"Azuay\"))\n                .otherwise(when($\"provincia\" \u003d\u003d\u003d  2 , lit(\"Bovilar\"))\n                        .otherwise(when($\"provincia\" \u003d\u003d\u003d 3, lit(\"Caniar\"))\n                        .otherwise(when($\"provincia\" \u003d\u003d\u003d 4, lit(\"Carchi\"))\n                        .otherwise(when($\"provincia\" \u003d\u003d\u003d 5, lit(\"Cotopaxi\"))\n.otherwise(when($\"provincia\" \u003d\u003d\u003d 6, lit(\"Chimborazo\"))\n.otherwise(when($\"provincia\" \u003d\u003d\u003d 7, lit(\"El Oro\"))\n.otherwise(when($\"provincia\" \u003d\u003d\u003d 8, lit(\"Esmeraldas\"))\n.otherwise(when($\"provincia\" \u003d\u003d\u003d 9, lit(\"Guayas\"))\n.otherwise(when($\"provincia\" \u003d\u003d\u003d 10, lit(\"Imbabura\"))\n.otherwise(when($\"provincia\" \u003d\u003d\u003d 11, lit(\"Loja\"))\n.otherwise(when($\"provincia\" \u003d\u003d\u003d 12, lit(\"Los Rios\"))\n.otherwise(when($\"provincia\" \u003d\u003d\u003d 13, lit(\"Manabi\"))\n.otherwise(when($\"provincia\" \u003d\u003d\u003d 14, lit(\"Morona Santiago\"))\n.otherwise(when($\"provincia\" \u003d\u003d\u003d 15, lit(\"Napo\"))\n.otherwise(when($\"provincia\" \u003d\u003d\u003d 16, lit(\"Pastaza\"))\n.otherwise(when($\"provincia\" \u003d\u003d\u003d 17, lit(\"Pichincha\"))\n.otherwise(when($\"provincia\" \u003d\u003d\u003d 18, lit(\"Tungurahua\"))\n.otherwise(when($\"provincia\" \u003d\u003d\u003d 19, lit(\"Zamora Chinchipe\"))\n.otherwise(when($\"provincia\" \u003d\u003d\u003d 20, lit(\"Galapagos\"))\n.otherwise(when($\"provincia\" \u003d\u003d\u003d 21, lit(\"Sucumbios\"))\n.otherwise(when($\"provincia\" \u003d\u003d\u003d 22, lit(\"Orellana\"))\n.otherwise(when($\"provincia\" \u003d\u003d\u003d 23, lit(\"Santo Domingo de los Tsachilas\"))\n.otherwise(when($\"provincia\" \u003d\u003d\u003d 24, lit(\"Santa  Elena\"))\n)   ))  )))))))))))))))))))))"
    },
    {
      "cell_type": "code",
      "execution_count": 4,
      "metadata": {
        "autoscroll": "auto"
      },
      "outputs": [],
      "source": "val data3 \u003d pro.select($\"provincia\",$\"genero\")\nval data4\u003ddata3.select($\"genero\",$\"provincia\").groupBy(\"genero\",\"provincia\").count()\nval mujeres \u003d data4.filter(data4(\"genero\")\u003d\u003d\u003d \"2 - Mujer\").withColumnRenamed(\"count\",\"Mujeres\").select($\"provincia\",$\"Mujeres\")\nval hombres \u003d data4.filter(data4(\"genero\")\u003d\u003d\u003d \"1 - Hombre\").withColumnRenamed(\"count\",\"Hombres\")select($\"provincia\",$\"Hombres\")\nval resultado\u003d hombres.as(\"hombres\").join(mujeres.as(\"mujeres\"), hombres(\"provincia\") \u003d\u003d\u003d mujeres(\"provincia\")).select(\"hombres.provincia\", \"hombres\", \"mujeres\")\nresultado.show\n"
    },
    {
      "cell_type": "code",
      "execution_count": 5,
      "metadata": {
        "autoscroll": "auto"
      },
      "outputs": [],
      "source": "val  tabla \u003d pro.select(\"provincia\",\"ingreso_laboral\",\"grupo_ocupacion\",\"nivel_de_instruccion\").withColumnRenamed(\"nivel_de_instruccion\",\"educacion\")\n.withColumnRenamed(\"grupo_ocupacion\",\"ocupacion\").orderBy(desc(\"ingreso_laboral\")).limit(10)\ntabla.show(false)\n\ntabla.createTempView(\"tabla\")"
    },
    {
      "cell_type": "code",
      "execution_count": 6,
      "metadata": {},
      "outputs": [],
      "source": "%%sql\nselect * from tabla  "
    },
    {
      "cell_type": "code",
      "execution_count": 7,
      "metadata": {
        "autoscroll": "auto"
      },
      "outputs": [],
      "source": "val desempleo \u003d data2.select($\"anio\",$\"mes\",$\"ingreso_laboral\").withColumnRenamed(\"ingreso_laboral\",\"salario\")\n//desempleo.groupBy(\"anio\").count().show\nval year15  \u003d desempleo.filter(desempleo(\"anio\") \u003d\u003d\u003d 2015).filter(\"salario is null\").count()//.withColumn(\"range\",when($\"salario\" \u003d\u003d\u003d null,lit(\"sin empleo\"))).count()\nval year16 \u003d desempleo.filter(desempleo(\"anio\") \u003d\u003d\u003d 2016).filter(\"salario is null\").count()\nval year17 \u003d desempleo.filter(desempleo(\"anio\") \u003d\u003d\u003d 2017).filter(\"salario is null\").count()\nval year18 \u003d desempleo.filter(desempleo(\"anio\") \u003d\u003d\u003d 2018).filter(\"salario is null\").count()\nval year19 \u003d desempleo.filter(desempleo(\"anio\") \u003d\u003d\u003d 2019).filter(\"salario is null\").count()\n\nprintln(\" año 2015\u003d \"+year15+\" ,año 2016 \u003d\"+year16+\" ,año 2017 \u003d\"+year17+\" ,año 2018 \u003d\"+year18+\" ,año 2019 \u003d\"+year19)"
    },
    {
      "cell_type": "code",
      "execution_count": 8,
      "metadata": {
        "autoscroll": "auto"
      },
      "outputs": [],
      "source": "val AIL \u003d data2.withColumn(\"range\", when($\"ingreso_laboral\" \u003e  0 and $\"ingreso_laboral\" \u003c\u003d 400, lit(\"1-400 Ingreso menor al salario básico\"))\n                .otherwise(when($\"ingreso_laboral\" \u003e 400 and $\"ingreso_laboral\" \u003c\u003d 1000, lit(\"Ingreso entre  $400 y $1000\"))\n                .otherwise(when($\"ingreso_laboral\" \u003e 1000 and $\"ingreso_laboral\" \u003c\u003d 2000, lit(\"Ingreso mayor a $2000\"))\n                )  ) ).groupBy(\"range\").count().orderBy(\"range\")\nval  registros \u003ddata2.count.toDouble  \nval tableAIL \u003d AIL.select($\"range\",$\"count\"/registros*100).withColumnRenamed( \"((count / 622776.0) * 100)\",\"porcentaje\")\nm.show(false)\ntableAIL.createTempView(\"AIL\")\n\n\n"
    },
    {
      "cell_type": "code",
      "execution_count": 9,
      "metadata": {},
      "outputs": [],
      "source": "%%sql \nselect * from AIL"
    },
    {
      "cell_type": "code",
      "execution_count": 10,
      "metadata": {},
      "outputs": [],
      "source": "%%sql\n"
    }
  ]
}
