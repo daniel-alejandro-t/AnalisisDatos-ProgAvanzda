﻿{
  "metadata": {
    "name": "Integración",
    "kernelspec": {
      "display_name": "SCALA",
      "language": "scala",
      "name": "spark2-scala"
    },
    "language_info": {
      "codemirror_mode": "text/x-scala",
      "file_extension": ".scala",
      "mimetype": "text/x-scala",
      "name": "scala",
      "pygments_lexer": "scala"
    }
  },
  "nbformat": 4,
  "nbformat_minor": 2,
  "cells": [
    {
      "cell_type": "code",
      "execution_count": 0,
      "metadata": {
        "autoscroll": "auto"
      },
      "outputs": [],
      "source": "val datosDF \u003d spark.read.option(\"inferSchema\",\"true\")\n            .option(\"header\",\"true\")\n            .option(\"delimiter\",\"\\t\")\n            .csv(\"/home/david/Datos_ENEMDU_PEA_v2.csv\")\n"
    },
    {
      "cell_type": "code",
      "execution_count": 1,
      "metadata": {
        "autoscroll": "auto"
      },
      "outputs": [],
      "source": "val data2 \u003d datosDF.drop(\"id_persona\")"
    },
    {
      "cell_type": "code",
      "execution_count": 2,
      "metadata": {
        "autoscroll": "auto"
      },
      "outputs": [],
      "source": "datosDF.select(\"ingreso_laboral\").where($\"ingreso_laboral\" \u003e\u003d 390).count\n"
    },
    {
      "cell_type": "code",
      "execution_count": 3,
      "metadata": {
        "autoscroll": "auto"
      },
      "outputs": [],
      "source": "datosDF.select(\"sectorizacion\").where($\"sectorizacion\".isNull).count"
    },
    {
      "cell_type": "code",
      "execution_count": 4,
      "metadata": {
        "autoscroll": "auto"
      },
      "outputs": [],
      "source": "datosDF.select(\"nivel_de_instruccion\").groupBy(\"nivel_de_instruccion\").count().orderBy(desc(\"count\")).show(false)"
    },
    {
      "cell_type": "code",
      "execution_count": 5,
      "metadata": {
        "autoscroll": "auto"
      },
      "outputs": [],
      "source": "datosDF.select(\"rama_actividad\").where($\"ingreso_laboral\" \u003e\u003d 1000).groupBy(\"rama_actividad\").count.orderBy(desc(\"count\")).show"
    },
    {
      "cell_type": "code",
      "execution_count": 6,
      "metadata": {
        "autoscroll": "auto"
      },
      "outputs": [],
      "source": "val provincias\u003ddata2.withColumn(\"provincia\", when($\"provincia\" \u003d\u003d\u003d  1 , lit(\"Azuay\"))\n                .otherwise(when($\"provincia\" \u003d\u003d\u003d  2 , lit(\"Bovilar\"))\n                        .otherwise(when($\"provincia\" \u003d\u003d\u003d 3, lit(\"Caniar\"))\n                        .otherwise(when($\"provincia\" \u003d\u003d\u003d 4, lit(\"Carchi\"))\n                        .otherwise(when($\"provincia\" \u003d\u003d\u003d 5, lit(\"Cotopaxi\"))\n.otherwise(when($\"provincia\" \u003d\u003d\u003d 6, lit(\"Chimborazo\"))\n.otherwise(when($\"provincia\" \u003d\u003d\u003d 7, lit(\"El Oro\"))\n.otherwise(when($\"provincia\" \u003d\u003d\u003d 8, lit(\"Esmeraldas\"))\n.otherwise(when($\"provincia\" \u003d\u003d\u003d 9, lit(\"Guayas\"))\n.otherwise(when($\"provincia\" \u003d\u003d\u003d 10, lit(\"Imbabura\"))\n.otherwise(when($\"provincia\" \u003d\u003d\u003d 11, lit(\"Loja\"))\n.otherwise(when($\"provincia\" \u003d\u003d\u003d 12, lit(\"Los Rios\"))\n.otherwise(when($\"provincia\" \u003d\u003d\u003d 13, lit(\"Manabi\"))\n.otherwise(when($\"provincia\" \u003d\u003d\u003d 14, lit(\"Morona Santiago\"))\n.otherwise(when($\"provincia\" \u003d\u003d\u003d 15, lit(\"Napo\"))\n.otherwise(when($\"provincia\" \u003d\u003d\u003d 16, lit(\"Pastaza\"))\n.otherwise(when($\"provincia\" \u003d\u003d\u003d 17, lit(\"Pichincha\"))\n.otherwise(when($\"provincia\" \u003d\u003d\u003d 18, lit(\"Tungurahua\"))\n.otherwise(when($\"provincia\" \u003d\u003d\u003d 19, lit(\"Zamora Chinchipe\"))\n.otherwise(when($\"provincia\" \u003d\u003d\u003d 20, lit(\"Galapagos\"))\n.otherwise(when($\"provincia\" \u003d\u003d\u003d 21, lit(\"Sucumbios\"))\n.otherwise(when($\"provincia\" \u003d\u003d\u003d 22, lit(\"Orellana\"))\n.otherwise(when($\"provincia\" \u003d\u003d\u003d 23, lit(\"Santo Domingo de los Tsachilas\"))\n.otherwise(when($\"provincia\" \u003d\u003d\u003d 24, lit(\"Santa  Elena\"))\n)   ))  )))))))))))))))))))))"
    },
    {
      "cell_type": "code",
      "execution_count": 7,
      "metadata": {
        "autoscroll": "auto"
      },
      "outputs": [],
      "source": "val data3 \u003d provincias.select($\"provincia\",$\"genero\")\nval data4\u003ddata3.select($\"genero\",$\"provincia\").groupBy(\"genero\",\"provincia\").count()\nval mujeres \u003d data4.filter(data4(\"genero\")\u003d\u003d\u003d \"2 - Mujer\").withColumnRenamed(\"count\",\"Mujeres\").select($\"provincia\",$\"Mujeres\")\nval hombres \u003d data4.filter(data4(\"genero\")\u003d\u003d\u003d \"1 - Hombre\").withColumnRenamed(\"count\",\"Hombres\")select($\"provincia\",$\"Hombres\")\nval resultado\u003d hombres.as(\"hombres\").join(mujeres.as(\"mujeres\"), hombres(\"provincia\") \u003d\u003d\u003d mujeres(\"provincia\")).select(\"hombres.provincia\", \"hombres\", \"mujeres\")\nresultado.show(false)"
    },
    {
      "cell_type": "code",
      "execution_count": 8,
      "metadata": {
        "autoscroll": "auto"
      },
      "outputs": [],
      "source": "val  sueldos \u003d provincias\n.select(\"provincia\",\"ingreso_laboral\",\"grupo_ocupacion\",\"nivel_de_instruccion\")\n.withColumnRenamed(\"nivel_de_instruccion\",\"educacion\")\n.withColumnRenamed(\"grupo_ocupacion\",\"ocupacion\").orderBy(desc(\"ingreso_laboral\")).limit(10)\nsueldos.show(false)\n\n\nsueldos.createOrReplaceTempView(\"tablFinal\")"
    },
    {
      "cell_type": "code",
      "execution_count": 9,
      "metadata": {},
      "outputs": [],
      "source": "%%sql\nselect  * from tablFinal\n"
    },
    {
      "cell_type": "code",
      "execution_count": 10,
      "metadata": {
        "autoscroll": "auto"
      },
      "outputs": [],
      "source": "datosDF.select(\"grupo_ocupacion\").where($\"edad\" \u003c 30).groupBy(\"grupo_ocupacion\").count.orderBy(asc(\"grupo_ocupacion\")).show"
    },
    {
      "cell_type": "code",
      "execution_count": 11,
      "metadata": {
        "autoscroll": "auto"
      },
      "outputs": [],
      "source": "datosDF.select(\"nivel_de_instruccion\").filter( \"nivel_de_instruccion \u003d\u003d \u002709 - Superior Universitario\u0027 \").count"
    },
    {
      "cell_type": "code",
      "execution_count": 12,
      "metadata": {
        "autoscroll": "auto"
      },
      "outputs": [],
      "source": "datosDF.filter(\"grupo_ocupacion \u003d\u003d \u002702 - Profesionales científicos e intelectuales\u0027\").filter(\"rama_actividad \u003d\u003d \u002716 - P. Enseñanza\u0027\").select(avg(\"ingreso_laboral\").as(\"sueldo promedio\")).show"
    },
    {
      "cell_type": "code",
      "execution_count": 13,
      "metadata": {
        "autoscroll": "auto"
      },
      "outputs": [],
      "source": "val desempleo \u003d data2.select($\"anio\",$\"mes\",$\"ingreso_laboral\").withColumnRenamed(\"ingreso_laboral\",\"salario\")\nval year15  \u003d desempleo.filter(desempleo(\"anio\") \u003d\u003d\u003d 2015).filter(\"salario is null\").count()\nval year16 \u003d desempleo.filter(desempleo(\"anio\") \u003d\u003d\u003d 2016).filter(\"salario is null\").count()\nval year17 \u003d desempleo.filter(desempleo(\"anio\") \u003d\u003d\u003d 2017).filter(\"salario is null\").count()\nval year18 \u003d desempleo.filter(desempleo(\"anio\") \u003d\u003d\u003d 2018).filter(\"salario is null\").count()\nval year19 \u003d desempleo.filter(desempleo(\"anio\") \u003d\u003d\u003d 2019).filter(\"salario is null\").count()"
    },
    {
      "cell_type": "markdown",
      "metadata": {},
      "source": "#### Para responder la pregunta anterior asumimos que los datos nulos son para personas que no trabajan.\n#### Resultado obtenemos que el año con más desempleo es el 2019 es el año con, más desempleo"
    },
    {
      "cell_type": "code",
      "execution_count": 15,
      "metadata": {
        "autoscroll": "auto"
      },
      "outputs": [],
      "source": "val AIL \u003d data2.withColumn(\"range\", when($\"ingreso_laboral\" \u003e  0 and $\"ingreso_laboral\" \u003c\u003d 400, lit(\"1-400 Ingreso menor al salario básico\"))\n                .otherwise(when($\"ingreso_laboral\" \u003e 400 and $\"ingreso_laboral\" \u003c\u003d 1000, lit(\"Ingreso entre  $400 y $1000\"))\n                .otherwise(when($\"ingreso_laboral\" \u003e 1000 and $\"ingreso_laboral\" \u003c\u003d 2000, lit(\"Ingreso mayor a $2000\"))\n                )  ) ).groupBy(\"range\").count().orderBy(\"range\")\nval  registros \u003ddata2.count.toDouble  \nval tableAIL \u003d AIL.select($\"range\",$\"count\"/registros*100).withColumnRenamed( \"((count / 622776.0) * 100)\",\"porcentaje\")\ntableAIL.show(false)\ntableAIL.createOrReplaceTempView(\"AIL\")\n"
    },
    {
      "cell_type": "code",
      "execution_count": 16,
      "metadata": {},
      "outputs": [],
      "source": "%%sql \nselect * from AIL"
    },
    {
      "cell_type": "code",
      "execution_count": 17,
      "metadata": {
        "autoscroll": "auto"
      },
      "outputs": [],
      "source": "val humanos \u003d provincias.select($\"provincia\",$\"anio\",$\"ingreso_laboral\").filter(provincias(\"anio\") \u003d\u003d\u003d 2015 \u0026\u0026 provincias(\"ingreso_laboral\") \u003c 400).groupBy(\"provincia\").count\n//val registros  \u003d humanos.select(sum(\"count\"))\n//registros.show\n//val registros \u003d humanos.s.count.toDouble \nval result \u003d humanos.select($\"provincia\",$\"count\"/62130.0*100).withColumnRenamed(\"((count / 62130.0) * 100)\",\"Porcentaje\").withColumn(\"Porcentaje\", format_number($\"Porcentaje\", 3))\nresult.show\nresult.select(sum(\"Porcentaje\")).show"
    },
    {
      "cell_type": "code",
      "execution_count": 18,
      "metadata": {},
      "outputs": [],
      "source": "%%sql\n"
    }
  ]
}
