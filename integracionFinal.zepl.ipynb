﻿{
  "metadata": {
    "name": "IntegracionFinal",
    "kernelspec": {
      "language": "scala",
      "name": "spark2-scala"
    },
    "language_info": {
      "codemirror_mode": "text/x-scala",
      "file_extension": ".scala",
      "mimetype": "text/x-scala",
      "name": "scala",
      "pygments_lexer": "scala"
    }
  },
  "nbformat": 4,
  "nbformat_minor": 2,
  "cells": [
    {
      "cell_type": "code",
      "execution_count": 0,
      "metadata": {
        "autoscroll": "auto"
      },
      "outputs": [],
      "source": "val datosDF \u003d spark.read.format(\"csv\")\n                    .option(\"sep\", \"\\t\")\n                    .option(\"inferSchema\", \"true\")\n                    .option(\"header\", \"true\")\n                    .load(\"/datos/Datos_ENEMDU_PEA_v2.csv\")"
    },
    {
      "cell_type": "markdown",
      "metadata": {},
      "source": "# KNN\nEn está tabla se puede observar la predicciòn de cual será el ingreso salarial segun la edad, sin embargo los datos de edad e ingreso no fueron filtrados; es decir, se pueden mejorar la clasificaciòn\nfiltrando las edades y sueldos con el análisis de los valores átipicos"
    },
    {
      "cell_type": "code",
      "execution_count": 2,
      "metadata": {
        "autoscroll": "auto"
      },
      "outputs": [],
      "source": "val header \u003d df.first()\nval dfh \u003d df.filter(_!\u003dheader)\ndfh.first()\n\nval   nuevoDF\u003d  dfh.select($\"id_Persona\",$\"edad\",$\"ingreso_laboral\")\nval finalDF \u003d nuevoDF.filter(\"ingreso_laboral is not null\" )\n\nval featureCols \u003d Array(\"edad\",\"ingreso_laboral\")\nval assembler \u003d new VectorAssembler().setInputCols(featureCols).setOutputCol(\"features\")\nval df2 \u003d assembler.transform(finalDF)\n\nval Array(trainingData, testData) \u003d df2.randomSplit(Array(0.3,0.6))\n\nval kmeans \u003d new KMeans().setK(6).setFeaturesCol(\"features\").setPredictionCol(\"prediction\")\nval model \u003d kmeans.fit(df2)\nval categories \u003d model.transform(testData)\n\nz.show(categories.groupBy(\"prediction\").count())\n\nval grafico\u003dcategories.select($\"edad\",$\"ingreso_laboral\",$\"prediction\").groupBy(\"edad\",\"ingreso_laboral\",\"prediction\").agg(count(\"prediction\")).orderBy(\"edad\",\"ingreso_laboral\",\"prediction\")\nz.show(grafico)"
    },
    {
      "cell_type": "code",
      "execution_count": 3,
      "metadata": {
        "autoscroll": "auto"
      },
      "outputs": [],
      "source": "val CantonProvinciaDF \u003d spark.read.format(\"csv\")\n                    .option(\"sep\", \"\\t\")\n                    .option(\"inferSchema\", \"true\")\n                    .option(\"header\", \"true\")\n                    .load(\"/datos/DatosCodProvinciaAndConCanton.csv\")\n                    \nz.show(CantonProvinciaDF)"
    },
    {
      "cell_type": "code",
      "execution_count": 4,
      "metadata": {
        "autoscroll": "auto"
      },
      "outputs": [],
      "source": "z.show(datosDF.groupBy(\"rama_actividad\")\n        .agg(\n            max(\"ingreso_laboral\").as(\"SueldoMaximo\"),\n            avg(\"ingreso_laboral\").as(\"SueldoPromedio\")\n        ))\n        \n        // TODO Realizar un redondeo un un corte a los decimales\n        "
    },
    {
      "cell_type": "code",
      "execution_count": 5,
      "metadata": {
        "autoscroll": "auto"
      },
      "outputs": [],
      "source": "datosDF.groupBy()"
    },
    {
      "cell_type": "code",
      "execution_count": 6,
      "metadata": {
        "autoscroll": "auto"
      },
      "outputs": [],
      "source": "import org.apache.spark.sql.functions._\n\n\nz.show(datosDF.withColumn(\"edad\", when($\"edad\" \u003e\u003d 15 and $\"edad\" \u003c\u003d 25, lit(\"15-25\"))\n\t\t         \t.when($\"edad\" \u003e 25 and $\"edad\" \u003c\u003d 35, lit(\"26-35\"))\n\t\t         \t.when($\"edad\" \u003e 35 and $\"edad\" \u003c\u003d 45, lit(\"36-45\"))\n\t\t         \t.when($\"edad\" \u003e 45 and $\"edad\" \u003c\u003d 55, lit(\"46-55\"))\n\t\t         \t.when($\"edad\" \u003e 55 and $\"edad\" \u003c\u003d 65, lit(\"56-65\"))\n\t\t         \t.when($\"edad\" \u003e 65 and $\"edad\" \u003c\u003d 75, lit(\"66-75\"))\n\t\t          \t.otherwise(\"otros\")\n              ).groupBy(\"edad\").agg(avg($\"ingreso_laboral\")).orderBy(avg($\"ingreso_laboral\")) )\n         "
    },
    {
      "cell_type": "code",
      "execution_count": 7,
      "metadata": {
        "autoscroll": "auto"
      },
      "outputs": [],
      "source": "datosDF.select(\"ingreso_laboral\").where($\"ingreso_laboral\" \u003e\u003d 390).count\n"
    },
    {
      "cell_type": "code",
      "execution_count": 8,
      "metadata": {
        "autoscroll": "auto"
      },
      "outputs": [],
      "source": "z.show(datosDF.select(\"rama_actividad\").where($\"ingreso_laboral\" \u003e\u003d 1000).groupBy(\"rama_actividad\").count.orderBy(desc(\"count\")))"
    },
    {
      "cell_type": "code",
      "execution_count": 9,
      "metadata": {
        "autoscroll": "auto"
      },
      "outputs": [],
      "source": "datosDF.select(\"ingreso_laboral\").orderBy(desc(\"ingreso_laboral\")).show(10)"
    },
    {
      "cell_type": "code",
      "execution_count": 10,
      "metadata": {
        "autoscroll": "auto"
      },
      "outputs": [],
      "source": "datosDF.filter(\"grupo_ocupacion \u003d\u003d \u002702 - Profesionales científicos e intelectuales\u0027\").filter(\"rama_actividad \u003d\u003d \u002716 - P. Enseñanza\u0027\").select(avg(\"ingreso_laboral\").as(\"sueldo promedio\")).show"
    },
    {
      "cell_type": "code",
      "execution_count": 11,
      "metadata": {
        "autoscroll": "auto"
      },
      "outputs": [],
      "source": "datosDF.select(\"sectorizacion\").where($\"sectorizacion\".isNull).count"
    },
    {
      "cell_type": "code",
      "execution_count": 12,
      "metadata": {
        "autoscroll": "auto"
      },
      "outputs": [],
      "source": "datosDF.select(\"nivel_de_instruccion\").groupBy(\"nivel_de_instruccion\").count().orderBy(desc(\"count\")).show"
    },
    {
      "cell_type": "code",
      "execution_count": 13,
      "metadata": {
        "autoscroll": "auto"
      },
      "outputs": [],
      "source": "datosDF.select(\"nivel_de_instruccion\").filter( \"nivel_de_instruccion \u003d\u003d \u002709 - Superior Universitario\u0027 \").count"
    },
    {
      "cell_type": "code",
      "execution_count": 14,
      "metadata": {
        "autoscroll": "auto"
      },
      "outputs": [],
      "source": "z.show(datosDF.stat.crosstab(\"nivel_de_instruccion\", \"sectorizacion\"))"
    },
    {
      "cell_type": "code",
      "execution_count": 15,
      "metadata": {
        "autoscroll": "auto"
      },
      "outputs": [],
      "source": "z.show(datosDF.select(\"grupo_ocupacion\").where($\"edad\" \u003c 30).groupBy(\"grupo_ocupacion\").count.orderBy(asc(\"grupo_ocupacion\")) )"
    },
    {
      "cell_type": "code",
      "execution_count": 16,
      "metadata": {
        "autoscroll": "auto"
      },
      "outputs": [],
      "source": "z.show(datosDF.stat.crosstab(\"rama_actividad\", \"area\"))"
    },
    {
      "cell_type": "code",
      "execution_count": 17,
      "metadata": {
        "autoscroll": "auto"
      },
      "outputs": [],
      "source": "z.show( datosDF.groupBy(\"rama_actividad\").pivot(\"genero\").avg(\"ingreso_laboral\").orderBy(\"rama_actividad\") )"
    },
    {
      "cell_type": "code",
      "execution_count": 18,
      "metadata": {
        "autoscroll": "auto"
      },
      "outputs": [],
      "source": "z.show( datosDF.groupBy(\"provincia\", \"canton\").pivot(\"genero\").avg(\"ingreso_laboral\") )"
    },
    {
      "cell_type": "code",
      "execution_count": 19,
      "metadata": {
        "autoscroll": "auto"
      },
      "outputs": [],
      "source": "import org.apache.spark.sql.functions._\n\n\nz.show( datosDF.withColumn(\"ingreso_laboral\"), when( $\"ingreso_laboral\" \u003e\u003d 0 \u0026\u0026 $\"ingreso_laboral\" \u003c\u003d 250 || col(\"ingreso_laboral\") \u003e\u003d NULL )\n                           \t\t\t.when( $\"ingreso_laboral\" \u003e\u003d 251 \u0026\u0026 $\"ingreso_laboral\" \u003c\u003d 500 )\n                           \t\t\t.otherwise(\"otros\")\n                          ).groupBy(\"rama_actividad\").count.agg(max(struct(\"count\" +: grouping: _*)))\n        )"
    }
  ]
}