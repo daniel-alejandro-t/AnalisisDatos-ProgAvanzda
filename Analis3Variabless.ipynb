﻿{
  "metadata": {
    "name": "Avance3Variables",
    "kernelspec": {
      "language": "scala",
      "name": "spark2-scala"
    },
    "language_info": {
      "codemirror_mode": "text/x-scala",
      "file_extension": ".scala",
      "mimetype": "text/x-scala",
      "name": "scala",
      "pygments_lexer": "scala"
    }
  },
  "nbformat": 4,
  "nbformat_minor": 2,
  "cells": [
    {
      "cell_type": "code",
      "execution_count": 0,
      "metadata": {
        "autoscroll": "auto"
      },
      "outputs": [],
      "source": "import org.apache.spark.sql.types._\nval myDataSchema \u003d StructType(\n    Array(\n        StructField(\"id_persona\", DecimalType(26, 0), true), \n        StructField(\"anio\", IntegerType, true), \n        StructField(\"mes\", IntegerType, true), \n        StructField(\"provincia\", IntegerType, true), \n        StructField(\"canton\", IntegerType, true), \n        StructField(\"area\", StringType, true), \n        StructField(\"genero\", StringType, true), \n        StructField(\"edad\", IntegerType, true), \n        StructField(\"estado_civil\", StringType, true), \n        StructField(\"nivel_de_instruccion\", StringType, true), \n        StructField(\"etnia\", StringType, true), \n        StructField(\"ingreso_laboral\", IntegerType, true), \n        StructField(\"condicion_actividad\", StringType, true), \n        StructField(\"sectorizacion\", StringType, true), \n        StructField(\"grupo_ocupacion\", StringType, true), \n        StructField(\"rama_actividad\", StringType, true), \n        StructField(\"factor_expansion\", DoubleType, true)\n    ));"
    },
    {
      "cell_type": "code",
      "execution_count": 1,
      "metadata": {
        "autoscroll": "auto"
      },
      "outputs": [],
      "source": "val df \u003d spark.read.option(\"myDataSchema\",\"true\").option(\"header\",\"true\").option(\"delimiter\",\"\\t\").csv(\"/home/david/Datos_ENEMDU_PEA_v2.csv\")\nval data2 \u003d df.drop(\"id_persona\")\nval pro\u003ddata2.withColumn(\"provincia\", when($\"provincia\" \u003d\u003d\u003d  1 , lit(\"Azuay\"))\n                .otherwise(when($\"provincia\" \u003d\u003d\u003d  2 , lit(\"Bovilar\"))\n                        .otherwise(when($\"provincia\" \u003d\u003d\u003d 3, lit(\"Caniar\"))\n                        .otherwise(when($\"provincia\" \u003d\u003d\u003d 4, lit(\"Carchi\"))\n                        .otherwise(when($\"provincia\" \u003d\u003d\u003d 5, lit(\"Cotopaxi\"))\n.otherwise(when($\"provincia\" \u003d\u003d\u003d 6, lit(\"Chimborazo\"))\n.otherwise(when($\"provincia\" \u003d\u003d\u003d 7, lit(\"El Oro\"))\n.otherwise(when($\"provincia\" \u003d\u003d\u003d 8, lit(\"Esmeraldas\"))\n.otherwise(when($\"provincia\" \u003d\u003d\u003d 9, lit(\"Guayas\"))\n.otherwise(when($\"provincia\" \u003d\u003d\u003d 10, lit(\"Imbabura\"))\n.otherwise(when($\"provincia\" \u003d\u003d\u003d 11, lit(\"Loja\"))\n.otherwise(when($\"provincia\" \u003d\u003d\u003d 12, lit(\"Los Rios\"))\n.otherwise(when($\"provincia\" \u003d\u003d\u003d 13, lit(\"Manabi\"))\n.otherwise(when($\"provincia\" \u003d\u003d\u003d 14, lit(\"Morona Santiago\"))\n.otherwise(when($\"provincia\" \u003d\u003d\u003d 15, lit(\"Napo\"))\n.otherwise(when($\"provincia\" \u003d\u003d\u003d 16, lit(\"Pastaza\"))\n.otherwise(when($\"provincia\" \u003d\u003d\u003d 17, lit(\"Pichincha\"))\n.otherwise(when($\"provincia\" \u003d\u003d\u003d 18, lit(\"Tungurahua\"))\n.otherwise(when($\"provincia\" \u003d\u003d\u003d 19, lit(\"Zamora Chinchipe\"))\n.otherwise(when($\"provincia\" \u003d\u003d\u003d 20, lit(\"Galapagos\"))\n.otherwise(when($\"provincia\" \u003d\u003d\u003d 21, lit(\"Sucumbios\"))\n.otherwise(when($\"provincia\" \u003d\u003d\u003d 22, lit(\"Orellana\"))\n.otherwise(when($\"provincia\" \u003d\u003d\u003d 23, lit(\"Santo Domingo de los Tsachilas\"))\n.otherwise(when($\"provincia\" \u003d\u003d\u003d 24, lit(\"Santa  Elena\"))\n)   ))  )))))))))))))))))))))"
    },
    {
      "cell_type": "code",
      "execution_count": 2,
      "metadata": {
        "autoscroll": "auto"
      },
      "outputs": [],
      "source": "pro.stat.freqItems(Array(\"nivel_de_instruccion\")).show(false)"
    },
    {
      "cell_type": "markdown",
      "metadata": {},
      "source": " \n#### Análisis respecto de las variables: provincia, género, ingreso salarial, provincia, año, y nivel de instrucción"
    },
    {
      "cell_type": "code",
      "execution_count": 4,
      "metadata": {
        "autoscroll": "auto"
      },
      "outputs": [],
      "source": "def nivelInstruccion2(nInstrc:String, anio:Int)\u003d{\n    \n    val aux \u003d pro.select(\"nivel_de_instruccion\",\"ingreso_laboral\",\"anio\",\"genero\").filter($\"nivel_de_instruccion\"  \u003d\u003d\u003d nInstrc \u0026\u0026 $\"anio\" \u003d\u003d\u003danio).groupBy(\"nivel_de_instruccion\",\"genero\")\n        .agg(count(\u0027nivel_de_instruccion).as(\"count\"), avg(\u0027ingreso_laboral),  max(\u0027ingreso_laboral))\n        \n    val total \u003d pro.filter($\"nivel_de_instruccion\" \u003d\u003d\u003d nInstrc \u0026\u0026 $\"anio\" \u003d\u003d\u003danio).count()\n    \n    val hom \u003d aux.filter(\u0027genero \u003d\u003d\u003d \"1 - Hombre\").drop(\u0027genero).select($\"nivel_de_instruccion\",$\"avg(ingreso_laboral)\",$\"max(ingreso_laboral)\",$\"count\".cast(\"Double\")/total *100)\n    val hom2 \u003d hom.withColumnRenamed(hom.schema.last.name,\"Hombres\").withColumn(\"Hombres\", format_number(\u0027Hombres, 2) ).withColumnRenamed(\"avg(ingreso_laboral)\",\"SueldoPromedioHombres\")\n                .withColumn(\"SueldoPromedioHombres\", format_number(\u0027SueldoPromedioHombres, 2) )\n                .withColumnRenamed(\"max(ingreso_laboral)\",\"SueldoMaxHombres\")\n    \n    val muj \u003d aux.filter(\u0027genero \u003d!\u003d \"1 - Hombre\").drop(\u0027genero).select($\"nivel_de_instruccion\",$\"avg(ingreso_laboral)\",$\"max(ingreso_laboral)\",$\"count\".cast(\"Double\")/total *100)\n    val muj2 \u003d muj.withColumnRenamed(muj.schema.last.name,\"Mujeres\").withColumn(\"Mujeres\", format_number(\u0027Mujeres, 2) ).withColumnRenamed(\"avg(ingreso_laboral)\",\"SueldoPromedioMujeres\")\n                .withColumn(\"SueldoPromedioMujeres\", format_number(\u0027SueldoPromedioMujeres, 2) )\n                .withColumnRenamed(\"max(ingreso_laboral)\",\"SueldoMaxMujeres\")\n    \n    println(\" porcentaje basado en todas las personas con ese nivel de instrucción\")\n    hom2.join( muj2 , \"nivel_de_instruccion\").select($\"nivel_de_instruccion\",$\"Hombres\" ,$\"Mujeres\" ,$\"SueldoPromedioHombres\" ,$\"SueldoPromedioMujeres\" ,$\"SueldoMaxHombres\" ,$\"SueldoMaxMujeres\").show\n    \n    \n        \n}   "
    },
    {
      "cell_type": "code",
      "execution_count": 5,
      "metadata": {
        "autoscroll": "auto"
      },
      "outputs": [],
      "source": "nivelInstruccion2(\"10 - Post-grado\",2019)\n nivelInstruccion2(\"09 - Superior Universitario\",2019)"
    },
    {
      "cell_type": "markdown",
      "metadata": {},
      "source": " \n#### Análisis respecto de las variables: género, ingreso salarial, provincia año, y nivel de instrucción"
    },
    {
      "cell_type": "code",
      "execution_count": 7,
      "metadata": {
        "autoscroll": "auto"
      },
      "outputs": [],
      "source": "def nivelInstruccion3(anio:Int)\u003d{\n    \n    val aux \u003d pro.select(\"nivel_de_instruccion\",\"ingreso_laboral\",\"anio\",\"genero\").filter($\"anio\" \u003d\u003d\u003danio).groupBy(\"nivel_de_instruccion\",\"genero\")\n        .agg(count(\u0027nivel_de_instruccion).as(\"count\"), avg(\u0027ingreso_laboral),  max(\u0027ingreso_laboral))\n        \n    val total \u003d pro.filter($\"anio\" \u003d\u003d\u003danio).count()\n    \n    val hom \u003d aux.filter(\u0027genero \u003d\u003d\u003d \"1 - Hombre\").drop(\u0027genero).select($\"nivel_de_instruccion\",$\"avg(ingreso_laboral)\",$\"max(ingreso_laboral)\",$\"count\".cast(\"Double\")/total *100)\n    val hom2 \u003d hom.withColumnRenamed(hom.schema.last.name,\"Hombres\").withColumn(\"Hombres\", format_number(\u0027Hombres, 2) ).withColumnRenamed(\"avg(ingreso_laboral)\",\"SueldoPromedioHombres\")\n                .withColumn(\"SueldoPromedioHombres\", format_number(\u0027SueldoPromedioHombres, 2) )\n                .withColumnRenamed(\"max(ingreso_laboral)\",\"SueldoMaxHombres\")\n    \n    val muj \u003d aux.filter(\u0027genero \u003d!\u003d \"1 - Hombre\").drop(\u0027genero).select($\"nivel_de_instruccion\",$\"avg(ingreso_laboral)\",$\"max(ingreso_laboral)\",$\"count\".cast(\"Double\")/total *100)\n    val muj2 \u003d muj.withColumnRenamed(muj.schema.last.name,\"Mujeres\").withColumn(\"Mujeres\", format_number(\u0027Mujeres, 2) ).withColumnRenamed(\"avg(ingreso_laboral)\",\"SueldoPromedioMujeres\")\n                .withColumn(\"SueldoPromedioMujeres\", format_number(\u0027SueldoPromedioMujeres, 2) )\n                .withColumnRenamed(\"max(ingreso_laboral)\",\"SueldoMaxMujeres\")\n    \n    \n    hom2.join( muj2 , \"nivel_de_instruccion\").select($\"nivel_de_instruccion\",$\"Hombres\" ,$\"Mujeres\" ,$\"SueldoPromedioHombres\" ,$\"SueldoPromedioMujeres\" ,$\"SueldoMaxHombres\" ,$\"SueldoMaxMujeres\").show(false)\n} "
    },
    {
      "cell_type": "markdown",
      "metadata": {},
      "source": " La función *nivelInstruccion3(2019)*** devuelve una tabla con el análisis de ingreso salarial de todos los niveles de instucción por el año especificado"
    },
    {
      "cell_type": "code",
      "execution_count": 9,
      "metadata": {
        "autoscroll": "auto"
      },
      "outputs": [],
      "source": "nivelInstruccion3(2019)"
    },
    {
      "cell_type": "markdown",
      "metadata": {},
      "source": " \n#### Análisis respecto de las variables: provincia, género, ingreso salarial, provincia y año\nCreamos una función que recibe 3 parametros: *province*, *nInstrc* y *anio*, la cual nos devuelve un **dataframe** que invoca el método **show** para visualizar los datos obtenidos"
    },
    {
      "cell_type": "code",
      "execution_count": 11,
      "metadata": {
        "autoscroll": "auto"
      },
      "outputs": [],
      "source": "def nivelInstruccion4(province: String,nInstrc:String, anio:Int)\u003d{\n    \n    val aux \u003d pro.select(\"provincia\",\"nivel_de_instruccion\",\"ingreso_laboral\",\"anio\",\"genero\").filter($\"provincia\" \u003d\u003d\u003d province \u0026\u0026 $\"nivel_de_instruccion\"  \u003d\u003d\u003d nInstrc \u0026\u0026 $\"anio\" \u003d\u003d\u003danio).groupBy(\"provincia\",\"nivel_de_instruccion\",\"genero\")\n        .agg(count(\u0027nivel_de_instruccion).as(\"count\"), avg(\u0027ingreso_laboral),  max(\u0027ingreso_laboral))\n        \n    val total \u003d pro.filter($\"provincia\" \u003d\u003d\u003d province \u0026\u0026 $\"nivel_de_instruccion\" \u003d\u003d\u003d nInstrc \u0026\u0026 $\"anio\" \u003d\u003d\u003danio).count()\n    \n    val hom \u003d aux.filter(\u0027genero \u003d\u003d\u003d \"1 - Hombre\").drop(\u0027genero).select($\"provincia\",$\"nivel_de_instruccion\",$\"avg(ingreso_laboral)\",$\"max(ingreso_laboral)\",$\"count\".cast(\"Double\")/total *100)\n    val hom2 \u003d hom.withColumnRenamed(hom.schema.last.name,\"Hombres\").withColumn(\"Hombres\", format_number(\u0027Hombres, 2) ).withColumnRenamed(\"avg(ingreso_laboral)\",\"SueldoPromedioHombres\")\n                .withColumn(\"SueldoPromedioHombres\", format_number(\u0027SueldoPromedioHombres, 2) )\n                .withColumnRenamed(\"max(ingreso_laboral)\",\"SueldoMaxHombres\")\n    \n    val muj \u003d aux.filter(\u0027genero \u003d!\u003d \"1 - Hombre\").drop(\u0027genero).select($\"nivel_de_instruccion\",$\"avg(ingreso_laboral)\",$\"max(ingreso_laboral)\",$\"count\".cast(\"Double\")/total *100)\n    val muj2 \u003d muj.withColumnRenamed(muj.schema.last.name,\"Mujeres\").withColumn(\"Mujeres\", format_number(\u0027Mujeres, 2) ).withColumnRenamed(\"avg(ingreso_laboral)\",\"SueldoPromedioMujeres\")\n                .withColumn(\"SueldoPromedioMujeres\", format_number(\u0027SueldoPromedioMujeres, 2) )\n                .withColumnRenamed(\"max(ingreso_laboral)\",\"SueldoMaxMujeres\")\n    \n    \n    hom2.join( muj2 , \"nivel_de_instruccion\").select($\"provincia\",$\"nivel_de_instruccion\",$\"Hombres\" ,$\"Mujeres\" ,$\"SueldoPromedioHombres\" ,$\"SueldoPromedioMujeres\" ,$\"SueldoMaxHombres\" ,$\"SueldoMaxMujeres\").show\n}   "
    },
    {
      "cell_type": "markdown",
      "metadata": {},
      "source": " Con la función *nivelInstruccion4* podemos obtener el sueldo promedio  tanto de hombres como mujeres segun su nivel de instrucción, provincia, y año"
    },
    {
      "cell_type": "code",
      "execution_count": 13,
      "metadata": {
        "autoscroll": "auto"
      },
      "outputs": [],
      "source": "nivelInstruccion4(\"Loja\",\"10 - Post-grado\",2019)"
    }
  ]
}