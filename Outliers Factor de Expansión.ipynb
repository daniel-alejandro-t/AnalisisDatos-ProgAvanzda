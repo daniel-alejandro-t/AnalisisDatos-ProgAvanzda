﻿{
  "metadata": {
    "name": "Outliers Factor de Expansión",
    "kernelspec": {
      "language": "scala",
      "name": "spark2-scala"
    },
    "language_info": {
      "codemirror_mode": "text/x-scala",
      "file_extension": ".scala",
      "mimetype": "text/x-scala",
      "name": "scala",
      "pygments_lexer": "scala"
    }
  },
  "nbformat": 4,
  "nbformat_minor": 2,
  "cells": [
    {
      "cell_type": "markdown",
      "metadata": {},
      "source": "## Cálculo de Outliers de la variable Factor de Expansión"
    },
    {
      "cell_type": "code",
      "execution_count": 1,
      "metadata": {
        "autoscroll": "auto"
      },
      "outputs": [],
      "source": "import org.apache.spark.sql.types._\nval myDataSchema \u003d StructType(\n    Array(\n        StructField(\"id_persona\", DecimalType(26, 0), true), \n        StructField(\"anio\", IntegerType, true), \n        StructField(\"mes\", IntegerType, true), \n        StructField(\"provincia\", IntegerType, true), \n        StructField(\"canton\", IntegerType, true), \n        StructField(\"area\", StringType, true), \n        StructField(\"genero\", StringType, true), \n        StructField(\"edad\", IntegerType, true), \n        StructField(\"estado_civil\", StringType, true), \n        StructField(\"nivel_de_instruccion\", StringType, true), \n        StructField(\"etnia\", StringType, true), \n        StructField(\"ingreso_laboral\", IntegerType, true), \n        StructField(\"condicion_actividad\", StringType, true), \n        StructField(\"sectorizacion\", StringType, true), \n        StructField(\"grupo_ocupacion\", StringType, true), \n        StructField(\"rama_actividad\", StringType, true), \n        StructField(\"factor_expansion\", DoubleType, true)\n    ));\nval df \u003d spark.read.schema(myDataSchema).option(\"header\",\"true\").option(\"delimiter\",\"\\t\").csv(\"/home/david/Datos_ENEMDU_PEA_v2.csv\")"
    },
    {
      "cell_type": "code",
      "execution_count": 2,
      "metadata": {
        "autoscroll": "auto"
      },
      "outputs": [],
      "source": "val dfFactExpasion\u003d df.drop(\"id_persona\").select($\"factor_expansion\").filter(\"factor_expansion is NOT NULL\")\nval cuartiles \u003d dfFactExpasion.stat.approxQuantile(\"factor_expansion\",Array(0.25,0.75),0.00)\nval dest\u003d dfFactExpasion.select(stddev(\"factor_expansion\")).first()(0).asInstanceOf[Double]\nval avg\u003d dfFactExpasion.select(mean(\"factor_expansion\")).first()(0).asInstanceOf[Double]"
    },
    {
      "cell_type": "code",
      "execution_count": 3,
      "metadata": {
        "autoscroll": "auto"
      },
      "outputs": [],
      "source": "val minimo \u003d avg - 3 * dest\nval maximo \u003d avg + 3 * dest"
    },
    {
      "cell_type": "code",
      "execution_count": 4,
      "metadata": {
        "autoscroll": "auto"
      },
      "outputs": [],
      "source": "val valoresMenoresli  \u003d dfFactExpasion\n.where($\"factor_expansion\" \u003c minimo)\nvaloresMenoresli.describe().show"
    },
    {
      "cell_type": "code",
      "execution_count": 5,
      "metadata": {
        "autoscroll": "auto"
      },
      "outputs": [],
      "source": "val valoresMayoresls  \u003d dfFactExpasion\n.where($\"factor_expansion\" \u003e  maximo)\nvaloresMayoresls.describe().show"
    },
    {
      "cell_type": "code",
      "execution_count": 6,
      "metadata": {
        "autoscroll": "auto"
      },
      "outputs": [],
      "source": "val inferioriqr  \u003d q1 - 1.5 *iqr\nval superioriqr  \u003d q3 + 1.5*iqr"
    },
    {
      "cell_type": "code",
      "execution_count": 7,
      "metadata": {
        "autoscroll": "auto"
      },
      "outputs": [],
      "source": "val dfSinOutliers \u003d dfFactExpasion.where($\"factor_expansion\" \u003e inferioriqr  \u0026\u0026 $\"factor_expansion\" \u003c superioriqr).withColumn(\"factor_expansion\", format_number($\"factor_expansion\", 3))\ndfSinOutliers.summary().show"
    },
    {
      "cell_type": "code",
      "execution_count": 8,
      "metadata": {
        "autoscroll": "auto"
      },
      "outputs": [],
      "source": "val q1 \u003d cuartiles(0)\nval q3 \u003d  cuartiles(1)\nval iqr \u003d q3 - q1"
    },
    {
      "cell_type": "code",
      "execution_count": 9,
      "metadata": {
        "autoscroll": "auto"
      },
      "outputs": [],
      "source": "val rangos \u003d dfSinOutliers.withColumn(\"range\", when($\"factor_expansion\" \u003e  0 and $\"factor_expansion\" \u003c\u003d q1, lit(\"0 a  q1\"))\n                .otherwise(when($\"factor_expansion\" \u003e q1 and $\"factor_expansion\" \u003c\u003d q3-q1, lit(\" q1 a q2\"))\n                .otherwise(when($\"factor_expansion\" \u003e q3 - q1 and $\"factor_expansion\" \u003c\u003d q3, lit(\"q2 a q3\"))\n                .otherwise(when($\"factor_expansion\" \u003e q3 and $\"factor_expansion\" \u003c\u003d superioriqr, lit(\"q3 a limite iqr\"))\n                ) ) ) \n\n         ).groupBy(\"range\").count().orderBy(\"range\").withColumnRenamed(\"count\",\"Cantidad\")\nrangos.show"
    },
    {
      "cell_type": "code",
      "execution_count": 10,
      "metadata": {
        "autoscroll": "auto"
      },
      "outputs": [],
      "source": "val total \u003d dfSinOutliers.count\nval porcentaje \u003d rangos.select($\"range\",$\"Cantidad\"/total *100).withColumnRenamed(\"((Cantidad / 590758) * 100)\",\"porcentaje\")\nval resultado \u003d rangos.join(porcentaje,Seq(\"range\")).withColumn(\"porcentaje\", format_number($\"porcentaje\", 3)).sort(desc(\"porcentaje\"))\nresultado.show\n"
    },
    {
      "cell_type": "code",
      "execution_count": 11,
      "metadata": {
        "autoscroll": "auto"
      },
      "outputs": [],
      "source": "resultado.select(sum(\"porcentaje\")).show\nresultado.select(sum(\"Cantidad\")).show"
    }
  ]
}